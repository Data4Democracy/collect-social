{
 "cells": [
  {
   "cell_type": "code",
   "execution_count": 1,
   "metadata": {
    "collapsed": true
   },
   "outputs": [],
   "source": [
    "from collect_social.twitter import api"
   ]
  },
  {
   "cell_type": "code",
   "execution_count": 2,
   "metadata": {
    "collapsed": true
   },
   "outputs": [],
   "source": [
    "# Create twitter connection\n",
    "conn = api.Twitter()"
   ]
  },
  {
   "cell_type": "code",
   "execution_count": 35,
   "metadata": {
    "collapsed": false
   },
   "outputs": [
    {
     "data": {
      "text/plain": [
       "{'avatar': {'kind': 'href',\n",
       "  'location': 'http://pbs.twimg.com/profile_images/809762042571849728/fffe5XDC_normal.jpg'},\n",
       " 'bio': 'Work in progress & enjoying the journey. Python and open source. Project lead @data4democracy. Distance runner. Thankful.',\n",
       " 'display_name': 'Benjamin Starling',\n",
       " 'engagement': 390,\n",
       " 'follower': 43,\n",
       " 'following': 286,\n",
       " 'is_verified': False,\n",
       " 'location': {'raw_location': 'Chapel Hill, NC',\n",
       "  'timezone': 'Pacific Time (US & Canada)'},\n",
       " 'platform': 'twitter',\n",
       " 'post_count': 215,\n",
       " 'updated': '2017-02-10T21:53:20.303652',\n",
       " 'user_created': '2012-01-11T23:54:28',\n",
       " 'user_id': '461594173',\n",
       " 'user_name': 'bstarling_'}"
      ]
     },
     "execution_count": 35,
     "metadata": {},
     "output_type": "execute_result"
    }
   ],
   "source": [
    "# base use\n",
    "conn.get_user('bstarling_')"
   ]
  },
  {
   "cell_type": "code",
   "execution_count": 37,
   "metadata": {
    "collapsed": false
   },
   "outputs": [],
   "source": [
    "# override default, add native element, has full user object\n",
    "user = conn.get_user('bstarling_', native=True)"
   ]
  },
  {
   "cell_type": "code",
   "execution_count": 6,
   "metadata": {
    "collapsed": false
   },
   "outputs": [
    {
     "data": {
      "text/plain": [
       "{'avatar': {'kind': 'href',\n",
       "  'location': 'http://pbs.twimg.com/profile_images/809762042571849728/fffe5XDC_normal.jpg'},\n",
       " 'bio': 'Work in progress & enjoying the journey. Python and open source. Project lead @data4democracy. Distance runner. Thankful.',\n",
       " 'display_name': 'Benjamin Starling',\n",
       " 'engagement': 390,\n",
       " 'follower': 43,\n",
       " 'following': 286,\n",
       " 'is_verified': False,\n",
       " 'location': {'raw_location': 'Chapel Hill, NC',\n",
       "  'timezone': 'Pacific Time (US & Canada)'},\n",
       " 'native': User(protected=False, profile_sidebar_border_color='C0DEED', profile_text_color='333333', profile_image_url_https='https://pbs.twimg.com/profile_images/809762042571849728/fffe5XDC_normal.jpg', utc_offset=-28800, name='Benjamin Starling', time_zone='Pacific Time (US & Canada)', profile_background_tile=False, description='Work in progress & enjoying the journey. Python and open source. Project lead @data4democracy. Distance runner. Thankful.', needs_phone_verification=False, profile_location=None, lang='en', followers_count=43, geo_enabled=False, id_str='461594173', profile_sidebar_fill_color='DDEEF6', profile_link_color='1DA1F2', status=Status(contributors=None, truncated=False, in_reply_to_user_id=175478121, _api=<tweepy.api.API object at 0x10b78fd30>, source='Twitter for iPhone', in_reply_to_user_id_str='175478121', geo=None, in_reply_to_screen_name='itsJulian23', retweet_count=0, in_reply_to_status_id=828580143622979584, lang='en', _json={'lang': 'en', 'truncated': False, 'in_reply_to_user_id': 175478121, 'entities': {'hashtags': [], 'symbols': [], 'user_mentions': [{'screen_name': 'itsJulian23', 'id_str': '175478121', 'indices': [0, 12], 'id': 175478121, 'name': 'Julian Knab'}], 'urls': []}, 'source': '<a href=\"http://twitter.com/download/iphone\" rel=\"nofollow\">Twitter for iPhone</a>', 'in_reply_to_user_id_str': '175478121', 'id': 828595527310782464, 'is_quote_status': False, 'retweet_count': 0, 'in_reply_to_status_id': 828580143622979584, 'favorite_count': 0, 'contributors': None, 'coordinates': None, 'id_str': '828595527310782464', 'created_at': 'Mon Feb 06 13:25:42 +0000 2017', 'in_reply_to_status_id_str': '828580143622979584', 'in_reply_to_screen_name': 'itsJulian23', 'favorited': False, 'retweeted': False, 'place': None, 'text': \"@itsJulian23  sweet!  What's the source of underlying data?\", 'geo': None}, text=\"@itsJulian23  sweet!  What's the source of underlying data?\", coordinates=None, id_str='828595527310782464', created_at=datetime.datetime(2017, 2, 6, 13, 25, 42), in_reply_to_status_id_str='828580143622979584', favorite_count=0, favorited=False, retweeted=False, place=None, source_url='http://twitter.com/download/iphone', entities={'hashtags': [], 'symbols': [], 'user_mentions': [{'screen_name': 'itsJulian23', 'id_str': '175478121', 'indices': [0, 12], 'id': 175478121, 'name': 'Julian Knab'}], 'urls': []}, id=828595527310782464, is_quote_status=False), follow_request_sent=False, is_translation_enabled=False, entities={'url': {'urls': [{'display_url': 'github.com/bstarling', 'url': 'https://t.co/5Zal08UT2K', 'expanded_url': 'https://github.com/bstarling', 'indices': [0, 23]}]}, 'description': {'urls': []}}, id=461594173, url='https://t.co/5Zal08UT2K', default_profile=True, following=False, _api=<tweepy.api.API object at 0x10b78fd30>, profile_background_image_url_https='https://abs.twimg.com/images/themes/theme1/bg.png', location='Chapel Hill, NC', contributors_enabled=False, suspended=False, friends_count=286, has_extended_profile=False, favourites_count=175, profile_banner_url='https://pbs.twimg.com/profile_banners/461594173/1468701145', verified=False, profile_background_image_url='http://abs.twimg.com/images/themes/theme1/bg.png', statuses_count=215, _json={'protected': False, 'profile_sidebar_border_color': 'C0DEED', 'suspended': False, 'profile_background_color': 'C0DEED', 'default_profile': True, 'profile_image_url_https': 'https://pbs.twimg.com/profile_images/809762042571849728/fffe5XDC_normal.jpg', 'utc_offset': -28800, 'name': 'Benjamin Starling', 'time_zone': 'Pacific Time (US & Canada)', 'profile_background_tile': False, 'geo_enabled': False, 'profile_link_color': '1DA1F2', 'lang': 'en', 'followers_count': 43, 'description': 'Work in progress & enjoying the journey. Python and open source. Project lead @data4democracy. Distance runner. Thankful.', 'id_str': '461594173', 'needs_phone_verification': False, 'status': {'lang': 'en', 'truncated': False, 'in_reply_to_user_id': 175478121, 'entities': {'hashtags': [], 'symbols': [], 'user_mentions': [{'screen_name': 'itsJulian23', 'id_str': '175478121', 'indices': [0, 12], 'id': 175478121, 'name': 'Julian Knab'}], 'urls': []}, 'source': '<a href=\"http://twitter.com/download/iphone\" rel=\"nofollow\">Twitter for iPhone</a>', 'in_reply_to_user_id_str': '175478121', 'id': 828595527310782464, 'is_quote_status': False, 'retweet_count': 0, 'in_reply_to_status_id': 828580143622979584, 'favorite_count': 0, 'contributors': None, 'coordinates': None, 'id_str': '828595527310782464', 'created_at': 'Mon Feb 06 13:25:42 +0000 2017', 'in_reply_to_status_id_str': '828580143622979584', 'in_reply_to_screen_name': 'itsJulian23', 'favorited': False, 'retweeted': False, 'place': None, 'text': \"@itsJulian23  sweet!  What's the source of underlying data?\", 'geo': None}, 'follow_request_sent': False, 'is_translation_enabled': False, 'id': 461594173, 'url': 'https://t.co/5Zal08UT2K', 'profile_text_color': '333333', 'following': False, 'entities': {'url': {'urls': [{'display_url': 'github.com/bstarling', 'url': 'https://t.co/5Zal08UT2K', 'expanded_url': 'https://github.com/bstarling', 'indices': [0, 23]}]}, 'description': {'urls': []}}, 'profile_background_image_url_https': 'https://abs.twimg.com/images/themes/theme1/bg.png', 'location': 'Chapel Hill, NC', 'contributors_enabled': False, 'profile_sidebar_fill_color': 'DDEEF6', 'friends_count': 286, 'has_extended_profile': False, 'favourites_count': 175, 'profile_banner_url': 'https://pbs.twimg.com/profile_banners/461594173/1468701145', 'verified': False, 'statuses_count': 215, 'profile_location': None, 'default_profile_image': False, 'created_at': 'Wed Jan 11 23:54:28 +0000 2012', 'listed_count': 1, 'profile_image_url': 'http://pbs.twimg.com/profile_images/809762042571849728/fffe5XDC_normal.jpg', 'notifications': False, 'screen_name': 'bstarling_', 'is_translator': False, 'profile_use_background_image': True, 'profile_background_image_url': 'http://abs.twimg.com/images/themes/theme1/bg.png', 'translator_type': 'none'}, default_profile_image=False, created_at=datetime.datetime(2012, 1, 11, 23, 54, 28), listed_count=1, profile_image_url='http://pbs.twimg.com/profile_images/809762042571849728/fffe5XDC_normal.jpg', notifications=False, screen_name='bstarling_', is_translator=False, profile_use_background_image=True, profile_background_color='C0DEED', translator_type='none'),\n",
       " 'platform': 'twitter',\n",
       " 'post_count': 215,\n",
       " 'updated': '2017-02-10T21:47:29.346328',\n",
       " 'user_created': '2012-01-11T23:54:28',\n",
       " 'user_id': '461594173',\n",
       " 'user_name': 'bstarling_'}"
      ]
     },
     "execution_count": 6,
     "metadata": {},
     "output_type": "execute_result"
    }
   ],
   "source": [
    "user"
   ]
  },
  {
   "cell_type": "code",
   "execution_count": 9,
   "metadata": {
    "collapsed": false
   },
   "outputs": [
    {
     "data": {
      "text/plain": [
       "User(protected=False, profile_sidebar_border_color='C0DEED', profile_text_color='333333', profile_image_url_https='https://pbs.twimg.com/profile_images/809762042571849728/fffe5XDC_normal.jpg', utc_offset=-28800, name='Benjamin Starling', time_zone='Pacific Time (US & Canada)', profile_background_tile=False, description='Work in progress & enjoying the journey. Python and open source. Project lead @data4democracy. Distance runner. Thankful.', needs_phone_verification=False, profile_location=None, lang='en', followers_count=43, geo_enabled=False, id_str='461594173', profile_sidebar_fill_color='DDEEF6', profile_link_color='1DA1F2', status=Status(contributors=None, truncated=False, in_reply_to_user_id=175478121, _api=<tweepy.api.API object at 0x10b78fd30>, source='Twitter for iPhone', in_reply_to_user_id_str='175478121', geo=None, in_reply_to_screen_name='itsJulian23', retweet_count=0, in_reply_to_status_id=828580143622979584, lang='en', _json={'lang': 'en', 'truncated': False, 'in_reply_to_user_id': 175478121, 'entities': {'hashtags': [], 'symbols': [], 'user_mentions': [{'screen_name': 'itsJulian23', 'id_str': '175478121', 'indices': [0, 12], 'id': 175478121, 'name': 'Julian Knab'}], 'urls': []}, 'source': '<a href=\"http://twitter.com/download/iphone\" rel=\"nofollow\">Twitter for iPhone</a>', 'in_reply_to_user_id_str': '175478121', 'id': 828595527310782464, 'is_quote_status': False, 'retweet_count': 0, 'in_reply_to_status_id': 828580143622979584, 'favorite_count': 0, 'contributors': None, 'coordinates': None, 'id_str': '828595527310782464', 'created_at': 'Mon Feb 06 13:25:42 +0000 2017', 'in_reply_to_status_id_str': '828580143622979584', 'in_reply_to_screen_name': 'itsJulian23', 'favorited': False, 'retweeted': False, 'place': None, 'text': \"@itsJulian23  sweet!  What's the source of underlying data?\", 'geo': None}, text=\"@itsJulian23  sweet!  What's the source of underlying data?\", coordinates=None, id_str='828595527310782464', created_at=datetime.datetime(2017, 2, 6, 13, 25, 42), in_reply_to_status_id_str='828580143622979584', favorite_count=0, favorited=False, retweeted=False, place=None, source_url='http://twitter.com/download/iphone', entities={'hashtags': [], 'symbols': [], 'user_mentions': [{'screen_name': 'itsJulian23', 'id_str': '175478121', 'indices': [0, 12], 'id': 175478121, 'name': 'Julian Knab'}], 'urls': []}, id=828595527310782464, is_quote_status=False), follow_request_sent=False, is_translation_enabled=False, entities={'url': {'urls': [{'display_url': 'github.com/bstarling', 'url': 'https://t.co/5Zal08UT2K', 'expanded_url': 'https://github.com/bstarling', 'indices': [0, 23]}]}, 'description': {'urls': []}}, id=461594173, url='https://t.co/5Zal08UT2K', default_profile=True, following=False, _api=<tweepy.api.API object at 0x10b78fd30>, profile_background_image_url_https='https://abs.twimg.com/images/themes/theme1/bg.png', location='Chapel Hill, NC', contributors_enabled=False, suspended=False, friends_count=286, has_extended_profile=False, favourites_count=175, profile_banner_url='https://pbs.twimg.com/profile_banners/461594173/1468701145', verified=False, profile_background_image_url='http://abs.twimg.com/images/themes/theme1/bg.png', statuses_count=215, _json={'protected': False, 'profile_sidebar_border_color': 'C0DEED', 'suspended': False, 'profile_background_color': 'C0DEED', 'default_profile': True, 'profile_image_url_https': 'https://pbs.twimg.com/profile_images/809762042571849728/fffe5XDC_normal.jpg', 'utc_offset': -28800, 'name': 'Benjamin Starling', 'time_zone': 'Pacific Time (US & Canada)', 'profile_background_tile': False, 'geo_enabled': False, 'profile_link_color': '1DA1F2', 'lang': 'en', 'followers_count': 43, 'description': 'Work in progress & enjoying the journey. Python and open source. Project lead @data4democracy. Distance runner. Thankful.', 'id_str': '461594173', 'needs_phone_verification': False, 'status': {'lang': 'en', 'truncated': False, 'in_reply_to_user_id': 175478121, 'entities': {'hashtags': [], 'symbols': [], 'user_mentions': [{'screen_name': 'itsJulian23', 'id_str': '175478121', 'indices': [0, 12], 'id': 175478121, 'name': 'Julian Knab'}], 'urls': []}, 'source': '<a href=\"http://twitter.com/download/iphone\" rel=\"nofollow\">Twitter for iPhone</a>', 'in_reply_to_user_id_str': '175478121', 'id': 828595527310782464, 'is_quote_status': False, 'retweet_count': 0, 'in_reply_to_status_id': 828580143622979584, 'favorite_count': 0, 'contributors': None, 'coordinates': None, 'id_str': '828595527310782464', 'created_at': 'Mon Feb 06 13:25:42 +0000 2017', 'in_reply_to_status_id_str': '828580143622979584', 'in_reply_to_screen_name': 'itsJulian23', 'favorited': False, 'retweeted': False, 'place': None, 'text': \"@itsJulian23  sweet!  What's the source of underlying data?\", 'geo': None}, 'follow_request_sent': False, 'is_translation_enabled': False, 'id': 461594173, 'url': 'https://t.co/5Zal08UT2K', 'profile_text_color': '333333', 'following': False, 'entities': {'url': {'urls': [{'display_url': 'github.com/bstarling', 'url': 'https://t.co/5Zal08UT2K', 'expanded_url': 'https://github.com/bstarling', 'indices': [0, 23]}]}, 'description': {'urls': []}}, 'profile_background_image_url_https': 'https://abs.twimg.com/images/themes/theme1/bg.png', 'location': 'Chapel Hill, NC', 'contributors_enabled': False, 'profile_sidebar_fill_color': 'DDEEF6', 'friends_count': 286, 'has_extended_profile': False, 'favourites_count': 175, 'profile_banner_url': 'https://pbs.twimg.com/profile_banners/461594173/1468701145', 'verified': False, 'statuses_count': 215, 'profile_location': None, 'default_profile_image': False, 'created_at': 'Wed Jan 11 23:54:28 +0000 2012', 'listed_count': 1, 'profile_image_url': 'http://pbs.twimg.com/profile_images/809762042571849728/fffe5XDC_normal.jpg', 'notifications': False, 'screen_name': 'bstarling_', 'is_translator': False, 'profile_use_background_image': True, 'profile_background_image_url': 'http://abs.twimg.com/images/themes/theme1/bg.png', 'translator_type': 'none'}, default_profile_image=False, created_at=datetime.datetime(2012, 1, 11, 23, 54, 28), listed_count=1, profile_image_url='http://pbs.twimg.com/profile_images/809762042571849728/fffe5XDC_normal.jpg', notifications=False, screen_name='bstarling_', is_translator=False, profile_use_background_image=True, profile_background_color='C0DEED', translator_type='none')"
      ]
     },
     "execution_count": 9,
     "metadata": {},
     "output_type": "execute_result"
    }
   ],
   "source": [
    "user['native']"
   ]
  },
  {
   "cell_type": "code",
   "execution_count": null,
   "metadata": {
    "collapsed": false
   },
   "outputs": [],
   "source": []
  },
  {
   "cell_type": "code",
   "execution_count": 38,
   "metadata": {
    "collapsed": false
   },
   "outputs": [
    {
     "data": {
      "text/plain": [
       "{'content_id': 830144442933899265,\n",
       " 'created_at': '2017-02-10T20:00:33',\n",
       " 'is_reply': False,\n",
       " 'location': {'raw_location': 'Austin, TX',\n",
       "  'timezone': 'Central Time (US & Canada)'},\n",
       " 'meta': {'hashtags': ['Data', 'AnacondaCON', 'Lego'],\n",
       "  'url': ['https://t.co/zvdkhk7ruw', 'https://t.co/NfugbN62oQ']},\n",
       " 'original_content_id': None,\n",
       " 'platform': 'twitter',\n",
       " 'reactions': {'pos_sentiment': 9},\n",
       " 'source': 'placeholder',\n",
       " 'text': 'ICYMI: Everything is Awesome...when #Data Scientists work together! https://t.co/zvdkhk7ruw #AnacondaCON #Lego… https://t.co/NfugbN62oQ',\n",
       " 'updated_at': '2017-02-10T21:54:38.358902',\n",
       " 'user_id': '398087684',\n",
       " 'user_name': 'ContinuumIO',\n",
       " 'user_platform': 'Sprout Social'}"
      ]
     },
     "execution_count": 38,
     "metadata": {},
     "output_type": "execute_result"
    }
   ],
   "source": [
    "conn.get_post(830144442933899265)"
   ]
  },
  {
   "cell_type": "code",
   "execution_count": 39,
   "metadata": {
    "collapsed": false
   },
   "outputs": [
    {
     "data": {
      "text/plain": [
       "{'content_id': 830144442933899265,\n",
       " 'created_at': '2017-02-10T20:00:33',\n",
       " 'is_reply': False,\n",
       " 'location': {'raw_location': 'Austin, TX',\n",
       "  'timezone': 'Central Time (US & Canada)'},\n",
       " 'meta': {'hashtags': ['Data', 'AnacondaCON', 'Lego'],\n",
       "  'url': ['https://t.co/zvdkhk7ruw', 'https://t.co/NfugbN62oQ']},\n",
       " 'native': Status(contributors=None, truncated=True, in_reply_to_user_id=None, _api=<tweepy.api.API object at 0x10b78fd30>, source='Sprout Social', in_reply_to_user_id_str=None, geo=None, in_reply_to_screen_name=None, retweet_count=3, in_reply_to_status_id=None, lang='en', possibly_sensitive_appealable=False, author=User(protected=False, profile_sidebar_border_color='86A4A6', profile_text_color='333333', profile_image_url_https='https://pbs.twimg.com/profile_images/786239422782017538/yNzTlI7P_normal.jpg', utc_offset=-21600, name='Continuum Analytics', time_zone='Central Time (US & Canada)', profile_background_tile=False, description=\"Creator and driving force behind Anaconda - the leading Open Data Science platform powered by #Python. We're helping people change the world.\", lang='en', followers_count=14744, geo_enabled=True, id_str='398087684', profile_sidebar_fill_color='A0C5C7', profile_link_color='FF3300', follow_request_sent=False, is_translation_enabled=False, entities={'url': {'urls': [{'display_url': 'continuum.io', 'url': 'http://t.co/u3MejZ51o1', 'expanded_url': 'http://continuum.io', 'indices': [0, 22]}]}, 'description': {'urls': []}}, id=398087684, url='http://t.co/u3MejZ51o1', default_profile=False, following=True, _api=<tweepy.api.API object at 0x10b78fd30>, profile_background_image_url_https='https://abs.twimg.com/images/themes/theme6/bg.gif', location='Austin, TX', contributors_enabled=False, friends_count=1662, has_extended_profile=False, favourites_count=4775, profile_banner_url='https://pbs.twimg.com/profile_banners/398087684/1479325670', verified=True, profile_background_image_url='http://abs.twimg.com/images/themes/theme6/bg.gif', statuses_count=5389, _json={'notifications': False, 'protected': False, 'profile_text_color': '333333', 'following': True, 'has_extended_profile': False, 'entities': {'url': {'urls': [{'display_url': 'continuum.io', 'url': 'http://t.co/u3MejZ51o1', 'expanded_url': 'http://continuum.io', 'indices': [0, 22]}]}, 'description': {'urls': []}}, 'profile_background_image_url_https': 'https://abs.twimg.com/images/themes/theme6/bg.gif', 'followers_count': 14744, 'profile_image_url_https': 'https://pbs.twimg.com/profile_images/786239422782017538/yNzTlI7P_normal.jpg', 'location': 'Austin, TX', 'profile_sidebar_fill_color': 'A0C5C7', 'utc_offset': -21600, 'friends_count': 1662, 'profile_sidebar_border_color': '86A4A6', 'time_zone': 'Central Time (US & Canada)', 'profile_background_tile': False, 'contributors_enabled': False, 'favourites_count': 4775, 'profile_banner_url': 'https://pbs.twimg.com/profile_banners/398087684/1479325670', 'lang': 'en', 'verified': True, 'url': 'http://t.co/u3MejZ51o1', 'profile_background_image_url': 'http://abs.twimg.com/images/themes/theme6/bg.gif', 'statuses_count': 5389, 'geo_enabled': True, 'id_str': '398087684', 'created_at': 'Tue Oct 25 15:18:43 +0000 2011', 'listed_count': 988, 'profile_image_url': 'http://pbs.twimg.com/profile_images/786239422782017538/yNzTlI7P_normal.jpg', 'description': \"Creator and driving force behind Anaconda - the leading Open Data Science platform powered by #Python. We're helping people change the world.\", 'profile_link_color': 'FF3300', 'screen_name': 'ContinuumIO', 'is_translator': False, 'translator_type': 'none', 'profile_use_background_image': True, 'follow_request_sent': False, 'is_translation_enabled': False, 'profile_background_color': '709397', 'default_profile_image': False, 'default_profile': False, 'id': 398087684, 'name': 'Continuum Analytics'}, default_profile_image=False, created_at=datetime.datetime(2011, 10, 25, 15, 18, 43), listed_count=988, profile_image_url='http://pbs.twimg.com/profile_images/786239422782017538/yNzTlI7P_normal.jpg', notifications=False, screen_name='ContinuumIO', is_translator=False, profile_use_background_image=True, profile_background_color='709397', translator_type='none'), _json={'possibly_sensitive_appealable': False, 'truncated': True, 'in_reply_to_user_id': None, 'entities': {'hashtags': [{'indices': [36, 41], 'text': 'Data'}, {'indices': [92, 104], 'text': 'AnacondaCON'}, {'indices': [105, 110], 'text': 'Lego'}], 'symbols': [], 'user_mentions': [], 'urls': [{'display_url': 'bit.ly/builddataapps', 'url': 'https://t.co/zvdkhk7ruw', 'expanded_url': 'http://bit.ly/builddataapps', 'indices': [68, 91]}, {'display_url': 'twitter.com/i/web/status/8…', 'url': 'https://t.co/NfugbN62oQ', 'expanded_url': 'https://twitter.com/i/web/status/830144442933899265', 'indices': [112, 135]}]}, 'source': '<a href=\"http://sproutsocial.com\" rel=\"nofollow\">Sprout Social</a>', 'in_reply_to_user_id_str': None, 'id': 830144442933899265, 'is_quote_status': False, 'retweet_count': 3, 'in_reply_to_status_id': None, 'favorite_count': 6, 'lang': 'en', 'contributors': None, 'coordinates': None, 'id_str': '830144442933899265', 'created_at': 'Fri Feb 10 20:00:33 +0000 2017', 'in_reply_to_status_id_str': None, 'in_reply_to_screen_name': None, 'favorited': False, 'retweeted': False, 'place': None, 'user': {'notifications': False, 'protected': False, 'profile_text_color': '333333', 'following': True, 'has_extended_profile': False, 'entities': {'url': {'urls': [{'display_url': 'continuum.io', 'url': 'http://t.co/u3MejZ51o1', 'expanded_url': 'http://continuum.io', 'indices': [0, 22]}]}, 'description': {'urls': []}}, 'profile_background_image_url_https': 'https://abs.twimg.com/images/themes/theme6/bg.gif', 'followers_count': 14744, 'profile_image_url_https': 'https://pbs.twimg.com/profile_images/786239422782017538/yNzTlI7P_normal.jpg', 'location': 'Austin, TX', 'profile_sidebar_fill_color': 'A0C5C7', 'utc_offset': -21600, 'friends_count': 1662, 'profile_sidebar_border_color': '86A4A6', 'time_zone': 'Central Time (US & Canada)', 'profile_background_tile': False, 'contributors_enabled': False, 'favourites_count': 4775, 'profile_banner_url': 'https://pbs.twimg.com/profile_banners/398087684/1479325670', 'lang': 'en', 'verified': True, 'url': 'http://t.co/u3MejZ51o1', 'profile_background_image_url': 'http://abs.twimg.com/images/themes/theme6/bg.gif', 'statuses_count': 5389, 'geo_enabled': True, 'id_str': '398087684', 'created_at': 'Tue Oct 25 15:18:43 +0000 2011', 'listed_count': 988, 'profile_image_url': 'http://pbs.twimg.com/profile_images/786239422782017538/yNzTlI7P_normal.jpg', 'description': \"Creator and driving force behind Anaconda - the leading Open Data Science platform powered by #Python. We're helping people change the world.\", 'profile_link_color': 'FF3300', 'screen_name': 'ContinuumIO', 'is_translator': False, 'translator_type': 'none', 'profile_use_background_image': True, 'follow_request_sent': False, 'is_translation_enabled': False, 'profile_background_color': '709397', 'default_profile_image': False, 'default_profile': False, 'id': 398087684, 'name': 'Continuum Analytics'}, 'possibly_sensitive': False, 'text': 'ICYMI: Everything is Awesome...when #Data Scientists work together! https://t.co/zvdkhk7ruw #AnacondaCON #Lego… https://t.co/NfugbN62oQ', 'geo': None}, text='ICYMI: Everything is Awesome...when #Data Scientists work together! https://t.co/zvdkhk7ruw #AnacondaCON #Lego… https://t.co/NfugbN62oQ', coordinates=None, id_str='830144442933899265', created_at=datetime.datetime(2017, 2, 10, 20, 0, 33), in_reply_to_status_id_str=None, favorite_count=6, favorited=False, retweeted=False, place=None, user=User(protected=False, profile_sidebar_border_color='86A4A6', profile_text_color='333333', profile_image_url_https='https://pbs.twimg.com/profile_images/786239422782017538/yNzTlI7P_normal.jpg', utc_offset=-21600, name='Continuum Analytics', time_zone='Central Time (US & Canada)', profile_background_tile=False, description=\"Creator and driving force behind Anaconda - the leading Open Data Science platform powered by #Python. We're helping people change the world.\", lang='en', followers_count=14744, geo_enabled=True, id_str='398087684', profile_sidebar_fill_color='A0C5C7', profile_link_color='FF3300', follow_request_sent=False, is_translation_enabled=False, entities={'url': {'urls': [{'display_url': 'continuum.io', 'url': 'http://t.co/u3MejZ51o1', 'expanded_url': 'http://continuum.io', 'indices': [0, 22]}]}, 'description': {'urls': []}}, id=398087684, url='http://t.co/u3MejZ51o1', default_profile=False, following=True, _api=<tweepy.api.API object at 0x10b78fd30>, profile_background_image_url_https='https://abs.twimg.com/images/themes/theme6/bg.gif', location='Austin, TX', contributors_enabled=False, friends_count=1662, has_extended_profile=False, favourites_count=4775, profile_banner_url='https://pbs.twimg.com/profile_banners/398087684/1479325670', verified=True, profile_background_image_url='http://abs.twimg.com/images/themes/theme6/bg.gif', statuses_count=5389, _json={'notifications': False, 'protected': False, 'profile_text_color': '333333', 'following': True, 'has_extended_profile': False, 'entities': {'url': {'urls': [{'display_url': 'continuum.io', 'url': 'http://t.co/u3MejZ51o1', 'expanded_url': 'http://continuum.io', 'indices': [0, 22]}]}, 'description': {'urls': []}}, 'profile_background_image_url_https': 'https://abs.twimg.com/images/themes/theme6/bg.gif', 'followers_count': 14744, 'profile_image_url_https': 'https://pbs.twimg.com/profile_images/786239422782017538/yNzTlI7P_normal.jpg', 'location': 'Austin, TX', 'profile_sidebar_fill_color': 'A0C5C7', 'utc_offset': -21600, 'friends_count': 1662, 'profile_sidebar_border_color': '86A4A6', 'time_zone': 'Central Time (US & Canada)', 'profile_background_tile': False, 'contributors_enabled': False, 'favourites_count': 4775, 'profile_banner_url': 'https://pbs.twimg.com/profile_banners/398087684/1479325670', 'lang': 'en', 'verified': True, 'url': 'http://t.co/u3MejZ51o1', 'profile_background_image_url': 'http://abs.twimg.com/images/themes/theme6/bg.gif', 'statuses_count': 5389, 'geo_enabled': True, 'id_str': '398087684', 'created_at': 'Tue Oct 25 15:18:43 +0000 2011', 'listed_count': 988, 'profile_image_url': 'http://pbs.twimg.com/profile_images/786239422782017538/yNzTlI7P_normal.jpg', 'description': \"Creator and driving force behind Anaconda - the leading Open Data Science platform powered by #Python. We're helping people change the world.\", 'profile_link_color': 'FF3300', 'screen_name': 'ContinuumIO', 'is_translator': False, 'translator_type': 'none', 'profile_use_background_image': True, 'follow_request_sent': False, 'is_translation_enabled': False, 'profile_background_color': '709397', 'default_profile_image': False, 'default_profile': False, 'id': 398087684, 'name': 'Continuum Analytics'}, default_profile_image=False, created_at=datetime.datetime(2011, 10, 25, 15, 18, 43), listed_count=988, profile_image_url='http://pbs.twimg.com/profile_images/786239422782017538/yNzTlI7P_normal.jpg', notifications=False, screen_name='ContinuumIO', is_translator=False, profile_use_background_image=True, profile_background_color='709397', translator_type='none'), possibly_sensitive=False, source_url='http://sproutsocial.com', entities={'hashtags': [{'indices': [36, 41], 'text': 'Data'}, {'indices': [92, 104], 'text': 'AnacondaCON'}, {'indices': [105, 110], 'text': 'Lego'}], 'symbols': [], 'user_mentions': [], 'urls': [{'display_url': 'bit.ly/builddataapps', 'url': 'https://t.co/zvdkhk7ruw', 'expanded_url': 'http://bit.ly/builddataapps', 'indices': [68, 91]}, {'display_url': 'twitter.com/i/web/status/8…', 'url': 'https://t.co/NfugbN62oQ', 'expanded_url': 'https://twitter.com/i/web/status/830144442933899265', 'indices': [112, 135]}]}, id=830144442933899265, is_quote_status=False),\n",
       " 'original_content_id': None,\n",
       " 'platform': 'twitter',\n",
       " 'reactions': {'pos_sentiment': 9},\n",
       " 'source': 'placeholder',\n",
       " 'text': 'ICYMI: Everything is Awesome...when #Data Scientists work together! https://t.co/zvdkhk7ruw #AnacondaCON #Lego… https://t.co/NfugbN62oQ',\n",
       " 'updated_at': '2017-02-10T21:54:42.696547',\n",
       " 'user_id': '398087684',\n",
       " 'user_name': 'ContinuumIO',\n",
       " 'user_platform': 'Sprout Social'}"
      ]
     },
     "execution_count": 39,
     "metadata": {},
     "output_type": "execute_result"
    }
   ],
   "source": [
    "#add native\n",
    "conn.get_post(830144442933899265, native=True)"
   ]
  },
  {
   "cell_type": "code",
   "execution_count": 17,
   "metadata": {
    "collapsed": false
   },
   "outputs": [],
   "source": [
    "tweet = conn.get_post(830144442933899265)"
   ]
  },
  {
   "cell_type": "code",
   "execution_count": 20,
   "metadata": {
    "collapsed": false
   },
   "outputs": [
    {
     "data": {
      "text/plain": [
       "['Data', 'AnacondaCON', 'Lego']"
      ]
     },
     "execution_count": 20,
     "metadata": {},
     "output_type": "execute_result"
    }
   ],
   "source": [
    "tweet['meta']['hashtags']"
   ]
  },
  {
   "cell_type": "code",
   "execution_count": 23,
   "metadata": {
    "collapsed": false
   },
   "outputs": [
    {
     "data": {
      "text/plain": [
       "'Sprout Social'"
      ]
     },
     "execution_count": 23,
     "metadata": {},
     "output_type": "execute_result"
    }
   ],
   "source": [
    "tweet['user_platform']"
   ]
  },
  {
   "cell_type": "code",
   "execution_count": 26,
   "metadata": {
    "collapsed": false
   },
   "outputs": [
    {
     "data": {
      "text/plain": [
       "{'raw_location': 'Austin, TX', 'timezone': 'Central Time (US & Canada)'}"
      ]
     },
     "execution_count": 26,
     "metadata": {},
     "output_type": "execute_result"
    }
   ],
   "source": [
    "# embedded location object\n",
    "tweet['location']"
   ]
  },
  {
   "cell_type": "code",
   "execution_count": 27,
   "metadata": {
    "collapsed": false
   },
   "outputs": [
    {
     "data": {
      "text/plain": [
       "{'pos_sentiment': 9}"
      ]
     },
     "execution_count": 27,
     "metadata": {},
     "output_type": "execute_result"
    }
   ],
   "source": [
    "conn.get_reaction(830144442933899265)"
   ]
  },
  {
   "cell_type": "code",
   "execution_count": 28,
   "metadata": {
    "collapsed": false
   },
   "outputs": [
    {
     "data": {
      "text/plain": [
       "{'platform_native': {'favorite_count': 6,\n",
       "  'platform': 'twitter',\n",
       "  'retweet_count': 3},\n",
       " 'pos_sentiment': 9}"
      ]
     },
     "execution_count": 28,
     "metadata": {},
     "output_type": "execute_result"
    }
   ],
   "source": [
    "conn.get_reaction(830144442933899265, native=True)"
   ]
  },
  {
   "cell_type": "code",
   "execution_count": 29,
   "metadata": {
    "collapsed": true
   },
   "outputs": [],
   "source": [
    "reaction = conn.get_reaction(830144442933899265, native=True)"
   ]
  },
  {
   "cell_type": "code",
   "execution_count": 32,
   "metadata": {
    "collapsed": false
   },
   "outputs": [
    {
     "data": {
      "text/plain": [
       "'twitter'"
      ]
     },
     "execution_count": 32,
     "metadata": {},
     "output_type": "execute_result"
    }
   ],
   "source": [
    "reaction['platform_native']['platform']"
   ]
  },
  {
   "cell_type": "code",
   "execution_count": 33,
   "metadata": {
    "collapsed": false
   },
   "outputs": [
    {
     "data": {
      "text/plain": [
       "{'favorite_count': 6, 'platform': 'twitter', 'retweet_count': 3}"
      ]
     },
     "execution_count": 33,
     "metadata": {},
     "output_type": "execute_result"
    }
   ],
   "source": [
    "reaction['platform_native']"
   ]
  },
  {
   "cell_type": "code",
   "execution_count": 34,
   "metadata": {
    "collapsed": false
   },
   "outputs": [
    {
     "data": {
      "text/plain": [
       "3"
      ]
     },
     "execution_count": 34,
     "metadata": {},
     "output_type": "execute_result"
    }
   ],
   "source": [
    "reaction['platform_native']['retweet_count']"
   ]
  },
  {
   "cell_type": "code",
   "execution_count": null,
   "metadata": {
    "collapsed": true
   },
   "outputs": [],
   "source": []
  }
 ],
 "metadata": {
  "anaconda-cloud": {},
  "kernelspec": {
   "display_name": "Python [conda root]",
   "language": "python",
   "name": "conda-root-py"
  },
  "language_info": {
   "codemirror_mode": {
    "name": "ipython",
    "version": 3
   },
   "file_extension": ".py",
   "mimetype": "text/x-python",
   "name": "python",
   "nbconvert_exporter": "python",
   "pygments_lexer": "ipython3",
   "version": "3.5.2"
  }
 },
 "nbformat": 4,
 "nbformat_minor": 1
}
